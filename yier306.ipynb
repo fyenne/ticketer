{
 "cells": [
  {
   "cell_type": "code",
   "execution_count": 35,
   "metadata": {},
   "outputs": [],
   "source": [
    "import datetime\n",
    "import time\n",
    "import pandas as pd\n",
    "from sqlalchemy import create_engine\n",
    "from bs4 import BeautifulSoup\n",
    "from selenium import webdriver\n",
    "from selenium.webdriver.common.keys import Keys\n",
    "from selenium.webdriver.common.by import By\n",
    "import time\n",
    "from selenium.webdriver.support.wait import WebDriverWait\n",
    "import selenium.webdriver.support.expected_conditions as EC\n",
    "from selenium.webdriver.chrome.options import Options\n",
    "from samoyan_pack.messenger1 import messenger1\n",
    "import json\n",
    "pd.set_option('display.max_columns', None)\n",
    "\n",
    "# selenium 4\n",
    "import random\n",
    "import requests\n",
    "from bs4 import BeautifulSoup\n",
    "\n",
    "options = Options()\n",
    "options.add_experimental_option(\n",
    "    \"prefs\",\n",
    "    {\n",
    "        \"download.default_directory\": \"./\",\n",
    "        \"download.prompt_for_download\": False,\n",
    "        \"download.directory_upgrade\": True,\n",
    "        \"profile.default_content_setting_values.automatic_downloads\": True,\n",
    "    },\n",
    ")\n",
    "driver = webdriver.Chrome(options=options)\n",
    "driver.get(\"https://www.12306.cn/index/\")"
   ]
  },
  {
   "cell_type": "code",
   "execution_count": 36,
   "metadata": {},
   "outputs": [],
   "source": [
    "def element_waiter(xpath: str):\n",
    "    WebDriverWait(driver, 5).until(EC.presence_of_element_located((By.XPATH, xpath)))\n",
    "\n",
    "\n",
    "def tablize_order_page(driver):\n",
    "    # Find the table element (adjust the locator as needed)\n",
    "    table = driver.find_element(By.ID, \"t-list\")  # Example using XPath\n",
    "    # Get the HTML content of the table\n",
    "    table_html = table.get_attribute(\"outerHTML\")\n",
    "    # Use pandas to read the HTML table\n",
    "    df = pd.read_html(table_html)[0]  # Extract the first table from the page\n",
    "\n",
    "    # Extract IDs from table rows (adjust XPath based on your HTML structure)\n",
    "    ids = []\n",
    "    rows = table.find_elements(By.CLASS_NAME, \"train\")\n",
    "    for row in rows:\n",
    "        try:\n",
    "            id_attr = row.get_attribute(\"id\")  # Get the 'id' attribute of the row\n",
    "            ids.append(id_attr)\n",
    "        except:\n",
    "            ids.append(None)  # Handle cases where 'id' attribute is not found\n",
    "\n",
    "    # Add the 'id' column to the DataFrame\n",
    "    df[\"id\"] = ids\n",
    "    return df\n",
    "\n",
    "\n",
    "def list_to_dataframe(data_list):\n",
    "    \"\"\"Converts a list of pipe-delimited strings to a Pandas DataFrame.\n",
    "\n",
    "    Args:\n",
    "        data_list: A list of strings, where each string represents a row.\n",
    "\n",
    "    Returns:\n",
    "        A Pandas DataFrame, or None if the input is invalid.\n",
    "    \"\"\"\n",
    "    if not data_list:  # Handle empty list case\n",
    "        return pd.DataFrame()\n",
    "\n",
    "    try:\n",
    "        # Split each string into a list of values\n",
    "        split_data = [row.split(\"|\") for row in data_list]\n",
    "\n",
    "        # Determine the number of columns (maximum number of splits)\n",
    "        num_cols = max(len(row) for row in split_data)\n",
    "\n",
    "        # Pad shorter rows with empty strings to ensure consistent columns\n",
    "        for row in split_data:\n",
    "            while len(row) < num_cols:\n",
    "                row.append(\"\")  # Or you could append None, np.nan, etc.\n",
    "\n",
    "        # Create the DataFrame\n",
    "        df = pd.DataFrame(split_data)\n",
    "        return df\n",
    "    except AttributeError:  # Handle cases where elements are not string\n",
    "        print(\"Error: Input list contains non-string elements.\")\n",
    "        return None\n",
    "    except Exception as e:\n",
    "        print(f\"An unexpected error occurred: {e}\")\n",
    "        return None"
   ]
  },
  {
   "cell_type": "code",
   "execution_count": 31,
   "metadata": {},
   "outputs": [],
   "source": [
    "# deng lu hou -- zai ji xu"
   ]
  },
  {
   "cell_type": "code",
   "execution_count": null,
   "metadata": {},
   "outputs": [],
   "source": []
  },
  {
   "cell_type": "markdown",
   "metadata": {},
   "source": [
    " qiang piao !!"
   ]
  },
  {
   "cell_type": "code",
   "execution_count": 16,
   "metadata": {},
   "outputs": [
    {
     "data": {
      "text/plain": [
       "True"
      ]
     },
     "execution_count": 16,
     "metadata": {},
     "output_type": "execute_result"
    }
   ],
   "source": []
  },
  {
   "cell_type": "code",
   "execution_count": 21,
   "metadata": {},
   "outputs": [
    {
     "name": "stdout",
     "output_type": "stream",
     "text": [
      "4\n",
      "4\n"
     ]
    }
   ],
   "source": []
  },
  {
   "cell_type": "code",
   "execution_count": 56,
   "metadata": {},
   "outputs": [
    {
     "ename": "KeyboardInterrupt",
     "evalue": "",
     "output_type": "error",
     "traceback": [
      "\u001b[1;31m---------------------------------------------------------------------------\u001b[0m",
      "\u001b[1;31mKeyboardInterrupt\u001b[0m                         Traceback (most recent call last)",
      "Cell \u001b[1;32mIn[56], line 16\u001b[0m\n\u001b[0;32m     14\u001b[0m \u001b[38;5;28;01mexcept\u001b[39;00m:\n\u001b[0;32m     15\u001b[0m     \u001b[38;5;28;01mpass\u001b[39;00m\n\u001b[1;32m---> 16\u001b[0m \u001b[43mtime\u001b[49m\u001b[38;5;241;43m.\u001b[39;49m\u001b[43msleep\u001b[49m\u001b[43m(\u001b[49m\u001b[43mrandom\u001b[49m\u001b[38;5;241;43m.\u001b[39;49m\u001b[43mrandint\u001b[49m\u001b[43m(\u001b[49m\u001b[38;5;241;43m1\u001b[39;49m\u001b[43m,\u001b[49m\u001b[43m \u001b[49m\u001b[38;5;241;43m15\u001b[39;49m\u001b[43m)\u001b[49m\u001b[43m \u001b[49m\u001b[38;5;241;43m/\u001b[39;49m\u001b[43m \u001b[49m\u001b[38;5;241;43m10\u001b[39;49m\u001b[43m)\u001b[49m\n\u001b[0;32m     17\u001b[0m t \u001b[38;5;241m+\u001b[39m\u001b[38;5;241m=\u001b[39m \u001b[38;5;241m1\u001b[39m\n\u001b[0;32m     18\u001b[0m \u001b[38;5;66;03m# print(t)\u001b[39;00m\n\u001b[0;32m     19\u001b[0m \u001b[38;5;66;03m# this is the ticket I want.\u001b[39;00m\n",
      "\u001b[1;31mKeyboardInterrupt\u001b[0m: "
     ]
    }
   ],
   "source": [
    "while (datetime.datetime.now().hour == 7) & (datetime.datetime.now().minute <= 28):\n",
    "    print(datetime.datetime.now().minute)\n",
    "    time.sleep(16)\n",
    "    try:\n",
    "        driver.find_element(By.ID, \"query_ticket\").click()\n",
    "    except:\n",
    "        pass\n",
    "t = 0\n",
    "# driver.refresh()\n",
    "while t < 999:\n",
    "    # click the query button indefinately, to see the ticket is available or not.\n",
    "    try:\n",
    "        driver.find_element(By.ID, \"query_ticket\").click()\n",
    "    except:\n",
    "        pass\n",
    "    time.sleep(random.randint(1, 15) / 10)\n",
    "    t += 1\n",
    "    # print(t)\n",
    "    # this is the ticket I want.\n",
    "    yuding_button_in_table_ = '//*[@id=\"ticket_550000Z19607_01_06\"]/td[13]/a'\n",
    "    \n",
    "    try:\n",
    "        driver.find_element(By.XPATH, yuding_button_in_table_).click()\n",
    "        seattype_ = '//*[@id=\"seatType_1\"]'\n",
    "        element_waiter(seattype_)\n",
    "        driver.find_element(By.XPATH, seattype_).click()\n",
    "        try:\n",
    "            # ruan wo huozhe ying wo\n",
    "            driver.find_element(By.XPATH, '//*[@id=\"seatType_1\"]/option[3]').click()\n",
    "        except:\n",
    "            driver.find_element(By.XPATH, '//*[@id=\"seatType_1\"]/option[1]').click()\n",
    "        # select passenger\n",
    "        checkbox_select_passenger_ = '//*[@id=\"normal_passenger_id\"]/li[1]/label'\n",
    "        element_waiter(checkbox_select_passenger_)\n",
    "        driver.find_element(By.XPATH, checkbox_select_passenger_).click()\n",
    "        driver.find_element(By.XPATH, '//*[@id=\"submitOrder_id\"]').click()\n",
    "        driver.find_element(By.XPATH,'//*[@id=\"qr_submit_id\"]').click()\n",
    "    except:\n",
    "        # print(\"no find\")\n",
    "        pass\n",
    "    # break"
   ]
  },
  {
   "cell_type": "code",
   "execution_count": 98,
   "metadata": {},
   "outputs": [],
   "source": []
  },
  {
   "cell_type": "code",
   "execution_count": 95,
   "metadata": {},
   "outputs": [],
   "source": [
    "# driver.find_element(By.XPATH,'//*[@id=\"qr_submit_id\"]').click()"
   ]
  },
  {
   "cell_type": "code",
   "execution_count": 39,
   "metadata": {},
   "outputs": [],
   "source": [
    "def tablize_order_page(driver):\n",
    "    # Find the table element (adjust the locator as needed)\n",
    "    table = driver.find_element(By.ID, \"t-list\")  # Example using XPath\n",
    "    # Get the HTML content of the table\n",
    "    table_html = table.get_attribute(\"outerHTML\")\n",
    "    # Use pandas to read the HTML table\n",
    "    df = pd.read_html(table_html)[0]  # Extract the first table from the page\n",
    "\n",
    "    # Extract IDs from table rows (adjust XPath based on your HTML structure)\n",
    "    ids = []\n",
    "    rows = table.find_elements(By.CLASS_NAME, \"train\")\n",
    "    for row in rows:\n",
    "        try:\n",
    "            id_attr = row.get_attribute(\"id\")  # Get the 'id' attribute of the row\n",
    "            ids.append(id_attr)\n",
    "        except:\n",
    "            ids.append(None)  # Handle cases where 'id' attribute is not found\n",
    "\n",
    "    # Add the 'id' column to the DataFrame\n",
    "    df[\"id\"] = ids\n",
    "    return df"
   ]
  },
  {
   "cell_type": "code",
   "execution_count": 55,
   "metadata": {},
   "outputs": [
    {
     "ename": "KeyboardInterrupt",
     "evalue": "",
     "output_type": "error",
     "traceback": [
      "\u001b[1;31m---------------------------------------------------------------------------\u001b[0m",
      "\u001b[1;31mKeyboardInterrupt\u001b[0m                         Traceback (most recent call last)",
      "Cell \u001b[1;32mIn[55], line 15\u001b[0m\n\u001b[0;32m      2\u001b[0m df \u001b[38;5;241m=\u001b[39m tablize_order_page(driver)\n\u001b[0;32m      3\u001b[0m \u001b[38;5;28;01mwhile\u001b[39;00m (\n\u001b[0;32m      4\u001b[0m     (\n\u001b[0;32m      5\u001b[0m         df[df[\u001b[38;5;124m\"\u001b[39m\u001b[38;5;124m车次\u001b[39m\u001b[38;5;124m\"\u001b[39m]\u001b[38;5;241m.\u001b[39mstr\u001b[38;5;241m.\u001b[39mstartswith(\u001b[38;5;124m\"\u001b[39m\u001b[38;5;124mZ196\u001b[39m\u001b[38;5;124m\"\u001b[39m)][\n\u001b[1;32m   (...)\u001b[0m\n\u001b[0;32m     13\u001b[0m     \u001b[38;5;241m==\u001b[39m \u001b[38;5;241m2\u001b[39m\n\u001b[0;32m     14\u001b[0m )\u001b[38;5;241m.\u001b[39mall():\n\u001b[1;32m---> 15\u001b[0m     \u001b[43mtime\u001b[49m\u001b[38;5;241;43m.\u001b[39;49m\u001b[43msleep\u001b[49m\u001b[43m(\u001b[49m\u001b[38;5;241;43m16\u001b[39;49m\u001b[43m)\u001b[49m\n\u001b[0;32m     16\u001b[0m     \u001b[38;5;28;01mtry\u001b[39;00m:\n\u001b[0;32m     17\u001b[0m         driver\u001b[38;5;241m.\u001b[39mfind_element(By\u001b[38;5;241m.\u001b[39mID, \u001b[38;5;124m\"\u001b[39m\u001b[38;5;124mquery_ticket\u001b[39m\u001b[38;5;124m\"\u001b[39m)\u001b[38;5;241m.\u001b[39mclick()\n",
      "\u001b[1;31mKeyboardInterrupt\u001b[0m: "
     ]
    }
   ],
   "source": [
    "# while True:\n",
    "df = tablize_order_page(driver)\n",
    "while (\n",
    "    (\n",
    "        df[df[\"车次\"].str.startswith(\"Z196\")][\n",
    "            [\n",
    "                \"软卧/动卧 一等卧\",\n",
    "                \"硬卧 二等卧\",\n",
    "            ]\n",
    "        ]\n",
    "        == \"候补\"\n",
    "    ).sum(axis=1)\n",
    "    == 2\n",
    ").all():\n",
    "    time.sleep(16)\n",
    "    try:\n",
    "        driver.find_element(By.ID, \"query_ticket\").click()\n",
    "    except:\n",
    "        pass\n",
    "yuding_button_in_table_ = '//*[@id=\"ticket_550000Z19607_01_06\"]/td[13]/a'\n",
    "\n",
    "try:\n",
    "    driver.find_element(By.XPATH, yuding_button_in_table_).click()\n",
    "    seattype_ = '//*[@id=\"seatType_1\"]'\n",
    "    element_waiter(seattype_)\n",
    "    driver.find_element(By.XPATH, seattype_).click()\n",
    "    try:\n",
    "        # ruan wo huozhe ying wo\n",
    "        driver.find_element(By.XPATH, '//*[@id=\"seatType_1\"]/option[3]').click()\n",
    "    except:\n",
    "        driver.find_element(By.XPATH, '//*[@id=\"seatType_1\"]/option[1]').click()\n",
    "    # select passenger\n",
    "    checkbox_select_passenger_ = '//*[@id=\"normal_passenger_id\"]/li[1]/label'\n",
    "    element_waiter(checkbox_select_passenger_)\n",
    "    driver.find_element(By.XPATH, checkbox_select_passenger_).click()\n",
    "    driver.find_element(By.XPATH, '//*[@id=\"submitOrder_id\"]').click()\n",
    "    driver.find_element(By.XPATH, '//*[@id=\"qr_submit_id\"]').click()\n",
    "except:\n",
    "    # print(\"no find\")\n",
    "    pass"
   ]
  },
  {
   "cell_type": "code",
   "execution_count": null,
   "metadata": {},
   "outputs": [],
   "source": []
  }
 ],
 "metadata": {
  "kernelspec": {
   "display_name": "siming",
   "language": "python",
   "name": "python3"
  },
  "language_info": {
   "codemirror_mode": {
    "name": "ipython",
    "version": 3
   },
   "file_extension": ".py",
   "mimetype": "text/x-python",
   "name": "python",
   "nbconvert_exporter": "python",
   "pygments_lexer": "ipython3",
   "version": "3.8.13"
  }
 },
 "nbformat": 4,
 "nbformat_minor": 2
}
