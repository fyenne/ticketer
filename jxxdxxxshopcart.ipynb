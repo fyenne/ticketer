{
 "cells": [
  {
   "cell_type": "code",
   "execution_count": 1,
   "metadata": {},
   "outputs": [],
   "source": [
    "import datetime\n",
    "import time\n",
    "import pandas as pd\n",
    "from sqlalchemy import create_engine\n",
    "from bs4 import BeautifulSoup\n",
    "from selenium import webdriver\n",
    "from selenium.webdriver.common.keys import Keys\n",
    "from selenium.webdriver.common.by import By\n",
    "import time\n",
    "from selenium.webdriver.support.wait import WebDriverWait\n",
    "import selenium.webdriver.support.expected_conditions as EC\n",
    "from selenium.webdriver.chrome.options import Options\n",
    "from samoyan_pack.messenger1 import messenger1\n",
    "import json\n",
    "pd.set_option('display.max_columns', None)\n",
    "\n",
    "import random\n"
   ]
  },
  {
   "cell_type": "code",
   "execution_count": 3,
   "metadata": {},
   "outputs": [
    {
     "name": "stdout",
     "output_type": "stream",
     "text": [
      "\n",
      "script to check out from your shopping cart, \n",
      "you have to have all the stuff you want already in your shopping cart, and only them\n",
      "the script woould \"select all\" in your shopping cart and then check out.\n",
      "and send a msg to your phone to remind you pay via app.\n",
      "\n"
     ]
    }
   ],
   "source": [
    "print(\"\"\"\n",
    "script to check out from your shopping cart, \n",
    "you have to have all the stuff you want already in your shopping cart, and only them\n",
    "the script woould \"select all\" in your shopping cart and then check out.\n",
    "and send a msg to your phone to remind you pay via app.\n",
    "\"\"\")"
   ]
  },
  {
   "cell_type": "code",
   "execution_count": 4,
   "metadata": {},
   "outputs": [
    {
     "name": "stdout",
     "output_type": "stream",
     "text": [
      "Please log in manually in the browser, navigate to shopping cart...\n"
     ]
    }
   ],
   "source": [
    "import undetected_chromedriver as uc\n",
    "from selenium.webdriver.common.by import By\n",
    "from selenium.webdriver.support.ui import WebDriverWait\n",
    "from selenium.webdriver.support import expected_conditions as EC\n",
    "from selenium_stealth import stealth\n",
    "import time\n",
    "import re\n",
    "\n",
    "# Set up Chrome options\n",
    "options = uc.ChromeOptions()\n",
    "options.add_argument(\"user-agent=Mozilla/5.0 (Windows NT 10.0; Win64; x64) AppleWebKit/537.36 (KHTML, like Gecko) Chrome/120.0.0.0 Safari/537.36\")\n",
    "# options.add_experimental_option(\"excludeSwitches\", [\"enable-automation\"])\n",
    "# options.add_experimental_option(\"useAutomationExtension\", False)\n",
    "driver = uc.Chrome(options=options)\n",
    "stealth(driver,\n",
    "    languages=[\"zh-CN\", \"zh\"],  \n",
    "    vendor=\"Google Inc.\",\n",
    "    platform=\"Win64\",\n",
    "    webgl_vendor=\"Intel Inc.\",\n",
    "    renderer=\"Intel Iris OpenGL Engine\",\n",
    "    fix_hairline=True,\n",
    ")\n",
    "\n",
    "driver.get(\"https://www.jd.com\")\n",
    "\n",
    "print(\"Please log in manually in the browser, navigate to shopping cart...\")"
   ]
  },
  {
   "cell_type": "code",
   "execution_count": 5,
   "metadata": {},
   "outputs": [],
   "source": [
    "#*\n",
    "#* change driver browser to 2nd page, which should be your shopping cart\n",
    "window_handles =driver.window_handles\n",
    "driver.switch_to.window(window_handles[1])"
   ]
  },
  {
   "cell_type": "code",
   "execution_count": 7,
   "metadata": {},
   "outputs": [
    {
     "name": "stdout",
     "output_type": "stream",
     "text": [
      "七彩虹（Colorful）iGame GeForce RTX 5090 D Advanced OC 32GB GDDR7 DLSS 4 电竞光追游戏设计电脑显卡 \n",
      "￥19,999.00\n",
      "限购1件\n",
      "促销\n",
      "########################\n",
      "索泰【12期免息】GeForce RTX 5090 D 32GB SOLID台式独立游戏电竞deepseek人工智能 50系首发DLSS4 RTX 5090 D 32GB SOLID \n",
      "￥16,499.00\n",
      "x1\n",
      "########################\n",
      "微星（MSI）幻影师 GeForce RTX 5070 Ti 16G SHADOW 3X 电竞游戏设计智能学习独立显卡 \n",
      "￥6,299.00\n",
      "x1\n",
      "限购1件\n",
      "########################\n",
      "微星（MSI）幻影师 GeForce RTX 5080 16G SHADOW 3X OC 电竞游戏设计智能学习独立显卡 \n",
      "￥8,299.00\n",
      "x1\n",
      "限购1件\n",
      "促销\n",
      "########################\n",
      "NVIDIA英伟达(NVIDIA)GeForce RTX 5080 Founders Edition公版显卡全新架构 DLSS4 \n",
      "￥8,299.00\n",
      "x1\n",
      "限购1件\n",
      "促销\n",
      "########################\n",
      "万丽(Manli )GeForce RTX 5090 D 32GB GDDR7 星际 电竞游戏专业设计渲染直播专用AI电脑显卡 \n",
      "\n",
      "########################\n",
      "映众（Inno3D）RTX 5090D 曜夜 X3 OC 32G大显存 全新架构 4K游戏AI运算设计渲染独立显卡 RTX 5090D 曜夜X3 \n",
      "\n",
      "########################\n",
      "万丽GeForce RTX 5070Ti 16GB GDDR7 星云 DLSS 4 电竞设计直播AI独立游戏显卡 万丽RTX5070Ti 16GB星云 \n",
      "\n",
      "########################\n",
      "万丽(Manli )GeForce RTX 5080 16GB GDDR7 星云 电竞游戏专业设计渲染直播专用AI电脑显卡 \n",
      "\n",
      "########################\n",
      "华硕（ASUS）RTX5070TI/4070TI SUPER 16G 显卡 电竞特工TUF/ROG猛禽 台式电脑游戏电竞独立显卡 4070tisuper 华硕 RTX4070TIS O16G-OG电竞 \n",
      "\n",
      "########################\n"
     ]
    }
   ],
   "source": [
    "def valiudate_ ():\n",
    "    tarp = driver.find_elements(By.CLASS_NAME, \"\"\"p-price\"\"\")\n",
    "    tarn = driver.find_elements(By.CLASS_NAME, \"\"\"p-name\"\"\")\n",
    "    tarc = driver.find_elements(By.CLASS_NAME, \"\"\"column.t-checkbox\"\"\")\n",
    "    tar_finalprice = driver.find_elements(By.CLASS_NAME, \"price.priceShow\")\n",
    "    kk = dict(zip(tarn, tarp))\n",
    "    for i in kk.items() :\n",
    "        if re.findall(\"50.0\", i[0].text):\n",
    "            print(i[0].text + \" \\n\" + i[1].text + \"\\n\"+\"#\" * 24)\n",
    "            pass\n",
    "valiudate_()"
   ]
  },
  {
   "cell_type": "code",
   "execution_count": null,
   "metadata": {},
   "outputs": [
    {
     "name": "stdout",
     "output_type": "stream",
     "text": [
      "2025-03-21 09:49:27.480246\n"
     ]
    }
   ],
   "source": [
    "def element_waiter(classname: str):\n",
    "    WebDriverWait(driver, 5).until(EC.presence_of_element_located((By.CLASS_NAME, classname)))\n",
    "print(datetime.datetime.now())\n",
    "z = 0\n",
    "while z < 10000:\n",
    "    time.sleep(3)\n",
    "    try:\n",
    "        tarp = driver.find_elements(By.CLASS_NAME, \"\"\"p-price\"\"\")\n",
    "        tarn = driver.find_elements(By.CLASS_NAME, \"\"\"p-name\"\"\")\n",
    "        tarc = driver.find_elements(By.CLASS_NAME, \"\"\"column.t-checkbox\"\"\")\n",
    "        tar_finalprice = driver.find_elements(By.CLASS_NAME, \"price.priceShow\")\n",
    "        kk = dict(zip(tarn, tarp))\n",
    "        # for i in kk.items() :\n",
    "            # if re.findall(\"50.0\", i[0].text):\n",
    "            #     print(i[0].text + \" \\n\" + i[1].text + \"\\n\"+\"#\" * 24)\n",
    "            #     pass\n",
    "        for j in range(6):\n",
    "            # tarc[0].click()\n",
    "            driver.find_elements(By.XPATH, \"\"\"//*[@id=\"cart-body\"]/div[2]/div[3]/div[1]/div/input\"\"\")[0].click()\n",
    "            sleep_time_c = random.randint(2,19)\n",
    "            # print(sleep_time_c)\n",
    "            if int(re.findall(\"\\d+\", tar_finalprice[0].text)[0])> 0:\n",
    "                checkout_ = driver.find_element(By.CLASS_NAME, \"\"\"common-submit-btn.font-semibold\"\"\")\n",
    "                print(checkout_.text)\n",
    "                checkout_.click()\n",
    "                # messenger1(\" gpu got now ! \")\n",
    "                element_waiter(\"\"\"checkout-submit\"\"\")\n",
    "                driver.find_element(By.CLASS_NAME, \"\"\"checkout-submit\"\"\").click()\n",
    "            else:\n",
    "                pass\n",
    "            time.sleep(sleep_time_c)\n",
    "        \n",
    "        print(z)\n",
    "        z+=1\n",
    "        driver.refresh()\n",
    "        if z % 431 == 0:\n",
    "            print(datetime.datetime.now())\n",
    "    except:\n",
    "        # system auto kick out\n",
    "        time.sleep(20)\n",
    "        driver.find_element(By.XPATH,\"\"\"//*[@id=\"my-cart\"]/a\"\"\").click()\n"
   ]
  },
  {
   "cell_type": "code",
   "execution_count": null,
   "metadata": {},
   "outputs": [
    {
     "name": "stdout",
     "output_type": "stream",
     "text": [
      "0\n",
      "1\n",
      "2\n",
      "3\n",
      "4\n",
      "5\n",
      "6\n",
      "7\n",
      "8\n",
      "9\n"
     ]
    }
   ],
   "source": [
    "#\n",
    "# * shou cang jia yemian refresh to see if there is new out.\n",
    "\n",
    "# z = 0\n",
    "# while z < 10:\n",
    "#     print(z)\n",
    "      \n",
    "#     element_waiter(\"\"\"//*[@id=\"addrSelect\"]/div[1]/div\"\"\")\n",
    "#     element_waiter(\"\"\"//*[@id=\"goods_10095797965962\"]/div[1]/div[3]/strong\"\"\")\n",
    "#     # time.sleep(3)\n",
    "#     tarp = driver.find_elements(By.CLASS_NAME, \"\"\"p-price\"\"\")\n",
    "#     tarn = driver.find_elements(By.CLASS_NAME, \"\"\"p-name\"\"\")\n",
    "#     kk = dict(zip(tarn, tarp))\n",
    "#     for i in kk.items() :\n",
    "#         if i[1].text.strip() != \"¥暂无报价\":\n",
    "#             print(i[0].text + \" \\n\" + i[1].text + \"\\n\"+\"#\" * 24)\n",
    "#             i[0].click()\n",
    "#     if z % 2 == 0:\n",
    "#         time.sleep(3)\n",
    "#         refresher_click_btn = driver.find_elements(By.CLASS_NAME, \"search\")[1]\n",
    "#         refresher_click_btn.click()\n",
    "#     elif z % 2 != 0 : \n",
    "#         time.sleep(3)\n",
    "#         refresher_click_btn = driver.find_elements(By.CLASS_NAME, \"search\")[0]\n",
    "#         refresher_click_btn.click()\n",
    "#     z += 1 "
   ]
  }
 ],
 "metadata": {
  "kernelspec": {
   "display_name": "siming",
   "language": "python",
   "name": "python3"
  },
  "language_info": {
   "codemirror_mode": {
    "name": "ipython",
    "version": 3
   },
   "file_extension": ".py",
   "mimetype": "text/x-python",
   "name": "python",
   "nbconvert_exporter": "python",
   "pygments_lexer": "ipython3",
   "version": "3.8.13"
  }
 },
 "nbformat": 4,
 "nbformat_minor": 2
}
