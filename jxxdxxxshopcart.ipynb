{
 "cells": [
  {
   "cell_type": "code",
   "execution_count": 3,
   "metadata": {},
   "outputs": [],
   "source": [
    "import datetime\n",
    "import time\n",
    "import pandas as pd\n",
    "from sqlalchemy import create_engine\n",
    "from bs4 import BeautifulSoup\n",
    "from selenium import webdriver\n",
    "from selenium.webdriver.common.keys import Keys\n",
    "from selenium.webdriver.common.by import By\n",
    "import time\n",
    "from selenium.webdriver.support.wait import WebDriverWait\n",
    "import selenium.webdriver.support.expected_conditions as EC\n",
    "from selenium.webdriver.chrome.options import Options\n",
    "from samoyan_pack.messenger1 import messenger1\n",
    "import json\n",
    "pd.set_option('display.max_columns', None)\n",
    "\n",
    "import random\n"
   ]
  },
  {
   "cell_type": "code",
   "execution_count": 22,
   "metadata": {},
   "outputs": [],
   "source": [
    "\"\"\"\n",
    "script to check out from your shopping cart, \n",
    "you have to have all the stuff you want already in your shopping cart, and only them\n",
    "the script woould \"select all\" in your shopping cart and then check out.\n",
    "and send a msg to your phone to remind you pay via app.\n",
    "\"\"\""
   ]
  },
  {
   "cell_type": "code",
   "execution_count": null,
   "metadata": {},
   "outputs": [
    {
     "name": "stdout",
     "output_type": "stream",
     "text": [
      "Please log in manually in the browser, then press Enter here to continue...\n"
     ]
    }
   ],
   "source": [
    "import undetected_chromedriver as uc\n",
    "from selenium.webdriver.common.by import By\n",
    "from selenium.webdriver.support.ui import WebDriverWait\n",
    "from selenium.webdriver.support import expected_conditions as EC\n",
    "from selenium_stealth import stealth\n",
    "import time\n",
    "import re\n",
    "\n",
    "# Set up Chrome options\n",
    "options = uc.ChromeOptions()\n",
    "options.add_argument(\"user-agent=Mozilla/5.0 (Windows NT 10.0; Win64; x64) AppleWebKit/537.36 (KHTML, like Gecko) Chrome/120.0.0.0 Safari/537.36\")\n",
    "# options.add_experimental_option(\"excludeSwitches\", [\"enable-automation\"])\n",
    "# options.add_experimental_option(\"useAutomationExtension\", False)\n",
    "driver = uc.Chrome(options=options)\n",
    "stealth(driver,\n",
    "    languages=[\"zh-CN\", \"zh\"],  \n",
    "    vendor=\"Google Inc.\",\n",
    "    platform=\"Win64\",\n",
    "    webgl_vendor=\"Intel Inc.\",\n",
    "    renderer=\"Intel Iris OpenGL Engine\",\n",
    "    fix_hairline=True,\n",
    ")\n",
    "\n",
    "driver.get(\"https://www.jd.com\")\n",
    "\n",
    "print(\"Please log in manually in the browser, navigate to shopping cart...\")"
   ]
  },
  {
   "cell_type": "code",
   "execution_count": 172,
   "metadata": {},
   "outputs": [],
   "source": [
    "#*\n",
    "#* change driver browser to 2nd page, which should be your shopping cart\n",
    "window_handles =driver.window_handles\n",
    "driver.switch_to.window(window_handles[1])"
   ]
  },
  {
   "cell_type": "code",
   "execution_count": 208,
   "metadata": {},
   "outputs": [],
   "source": [
    "# driver.refresh()\n"
   ]
  },
  {
   "cell_type": "code",
   "execution_count": null,
   "metadata": {},
   "outputs": [
    {
     "name": "stdout",
     "output_type": "stream",
     "text": [
      "2025-03-21 09:44:36.925656\n"
     ]
    },
    {
     "ename": "KeyboardInterrupt",
     "evalue": "",
     "output_type": "error",
     "traceback": [
      "\u001b[1;31m---------------------------------------------------------------------------\u001b[0m",
      "\u001b[1;31mIndexError\u001b[0m                                Traceback (most recent call last)",
      "Cell \u001b[1;32mIn[207], line 19\u001b[0m\n\u001b[0;32m     17\u001b[0m \u001b[38;5;28;01mfor\u001b[39;00m j \u001b[38;5;129;01min\u001b[39;00m \u001b[38;5;28mrange\u001b[39m(\u001b[38;5;241m6\u001b[39m):\n\u001b[0;32m     18\u001b[0m     \u001b[38;5;66;03m# tarc[0].click()\u001b[39;00m\n\u001b[1;32m---> 19\u001b[0m     \u001b[43mdriver\u001b[49m\u001b[38;5;241;43m.\u001b[39;49m\u001b[43mfind_elements\u001b[49m\u001b[43m(\u001b[49m\u001b[43mBy\u001b[49m\u001b[38;5;241;43m.\u001b[39;49m\u001b[43mXPATH\u001b[49m\u001b[43m,\u001b[49m\u001b[43m \u001b[49m\u001b[38;5;124;43m\"\"\"\u001b[39;49m\u001b[38;5;124;43m//*[@id=\u001b[39;49m\u001b[38;5;124;43m\"\u001b[39;49m\u001b[38;5;124;43mcart-body\u001b[39;49m\u001b[38;5;124;43m\"\u001b[39;49m\u001b[38;5;124;43m]/div[2]/div[3]/div[1]/div/input\u001b[39;49m\u001b[38;5;124;43m\"\"\"\u001b[39;49m\u001b[43m)\u001b[49m\u001b[43m[\u001b[49m\u001b[38;5;241;43m0\u001b[39;49m\u001b[43m]\u001b[49m\u001b[38;5;241m.\u001b[39mclick()\n\u001b[0;32m     20\u001b[0m     sleep_time_c \u001b[38;5;241m=\u001b[39m random\u001b[38;5;241m.\u001b[39mrandint(\u001b[38;5;241m2\u001b[39m,\u001b[38;5;241m19\u001b[39m)\n",
      "\u001b[1;31mIndexError\u001b[0m: list index out of range",
      "\nDuring handling of the above exception, another exception occurred:\n",
      "\u001b[1;31mKeyboardInterrupt\u001b[0m                         Traceback (most recent call last)",
      "Cell \u001b[1;32mIn[207], line 38\u001b[0m\n\u001b[0;32m     35\u001b[0m     driver\u001b[38;5;241m.\u001b[39mrefresh()\n\u001b[0;32m     36\u001b[0m \u001b[38;5;28;01mexcept\u001b[39;00m:\n\u001b[0;32m     37\u001b[0m     \u001b[38;5;66;03m# system auto kick out\u001b[39;00m\n\u001b[1;32m---> 38\u001b[0m     \u001b[43mtime\u001b[49m\u001b[38;5;241;43m.\u001b[39;49m\u001b[43msleep\u001b[49m\u001b[43m(\u001b[49m\u001b[38;5;241;43m20\u001b[39;49m\u001b[43m)\u001b[49m\n\u001b[0;32m     39\u001b[0m     driver\u001b[38;5;241m.\u001b[39mfind_element(By\u001b[38;5;241m.\u001b[39mXPATH,\u001b[38;5;124m\"\"\"\u001b[39m\u001b[38;5;124m//*[@id=\u001b[39m\u001b[38;5;124m\"\u001b[39m\u001b[38;5;124mmy-cart\u001b[39m\u001b[38;5;124m\"\u001b[39m\u001b[38;5;124m]/a\u001b[39m\u001b[38;5;124m\"\"\"\u001b[39m)\u001b[38;5;241m.\u001b[39mclick()\n",
      "\u001b[1;31mKeyboardInterrupt\u001b[0m: "
     ]
    }
   ],
   "source": [
    "def element_waiter(classname: str):\n",
    "    WebDriverWait(driver, 5).until(EC.presence_of_element_located((By.CLASS_NAME, classname)))\n",
    "print(datetime.datetime.now())\n",
    "z = 0\n",
    "while z < 10000:\n",
    "    time.sleep(3)\n",
    "    try:\n",
    "        tarp = driver.find_elements(By.CLASS_NAME, \"\"\"p-price\"\"\")\n",
    "        tarn = driver.find_elements(By.CLASS_NAME, \"\"\"p-name\"\"\")\n",
    "        tarc = driver.find_elements(By.CLASS_NAME, \"\"\"column.t-checkbox\"\"\")\n",
    "        tar_finalprice = driver.find_elements(By.CLASS_NAME, \"price.priceShow\")\n",
    "        kk = dict(zip(tarn, tarp))\n",
    "        # for i in kk.items() :\n",
    "            # if re.findall(\"50.0\", i[0].text):\n",
    "            #     print(i[0].text + \" \\n\" + i[1].text + \"\\n\"+\"#\" * 24)\n",
    "            #     pass\n",
    "        for j in range(6):\n",
    "            # tarc[0].click()\n",
    "            driver.find_elements(By.XPATH, \"\"\"//*[@id=\"cart-body\"]/div[2]/div[3]/div[1]/div/input\"\"\")[0].click()\n",
    "            sleep_time_c = random.randint(2,19)\n",
    "            # print(sleep_time_c)\n",
    "            if int(re.findall(\"\\d+\", tar_finalprice[0].text)[0])> 0:\n",
    "                checkout_ = driver.find_element(By.CLASS_NAME, \"\"\"common-submit-btn.font-semibold\"\"\")\n",
    "                print(checkout_.text)\n",
    "                checkout_.click()\n",
    "                # messenger1(\" gpu got now ! \")\n",
    "                element_waiter(\"\"\"checkout-submit\"\"\")\n",
    "                driver.find_element(By.CLASS_NAME, \"\"\"checkout-submit\"\"\").click()\n",
    "            else:\n",
    "                pass\n",
    "            time.sleep(sleep_time_c)\n",
    "        \n",
    "        print(z)\n",
    "        z+=1\n",
    "        driver.refresh()\n",
    "        if z % 431 == 0:\n",
    "            print(datetime.datetime.now())\n",
    "    except:\n",
    "        # system auto kick out\n",
    "        time.sleep(20)\n",
    "        driver.find_element(By.XPATH,\"\"\"//*[@id=\"my-cart\"]/a\"\"\").click()\n"
   ]
  },
  {
   "cell_type": "code",
   "execution_count": 206,
   "metadata": {},
   "outputs": [],
   "source": [
    "        driver.find_element(By.XPATH,\"\"\"//*[@id=\"my-cart\"]/a\"\"\").click()\n"
   ]
  },
  {
   "cell_type": "code",
   "execution_count": null,
   "metadata": {},
   "outputs": [
    {
     "name": "stdout",
     "output_type": "stream",
     "text": [
      "0\n",
      "1\n",
      "2\n",
      "3\n",
      "4\n",
      "5\n",
      "6\n",
      "7\n",
      "8\n",
      "9\n"
     ]
    }
   ],
   "source": [
    "#\n",
    "# * shou cang jia yemian refresh to see if there is new out.\n",
    "\n",
    "# z = 0\n",
    "# while z < 10:\n",
    "#     print(z)\n",
    "      \n",
    "#     element_waiter(\"\"\"//*[@id=\"addrSelect\"]/div[1]/div\"\"\")\n",
    "#     element_waiter(\"\"\"//*[@id=\"goods_10095797965962\"]/div[1]/div[3]/strong\"\"\")\n",
    "#     # time.sleep(3)\n",
    "#     tarp = driver.find_elements(By.CLASS_NAME, \"\"\"p-price\"\"\")\n",
    "#     tarn = driver.find_elements(By.CLASS_NAME, \"\"\"p-name\"\"\")\n",
    "#     kk = dict(zip(tarn, tarp))\n",
    "#     for i in kk.items() :\n",
    "#         if i[1].text.strip() != \"¥暂无报价\":\n",
    "#             print(i[0].text + \" \\n\" + i[1].text + \"\\n\"+\"#\" * 24)\n",
    "#             i[0].click()\n",
    "#     if z % 2 == 0:\n",
    "#         time.sleep(3)\n",
    "#         refresher_click_btn = driver.find_elements(By.CLASS_NAME, \"search\")[1]\n",
    "#         refresher_click_btn.click()\n",
    "#     elif z % 2 != 0 : \n",
    "#         time.sleep(3)\n",
    "#         refresher_click_btn = driver.find_elements(By.CLASS_NAME, \"search\")[0]\n",
    "#         refresher_click_btn.click()\n",
    "#     z += 1 "
   ]
  }
 ],
 "metadata": {
  "kernelspec": {
   "display_name": "siming",
   "language": "python",
   "name": "python3"
  },
  "language_info": {
   "codemirror_mode": {
    "name": "ipython",
    "version": 3
   },
   "file_extension": ".py",
   "mimetype": "text/x-python",
   "name": "python",
   "nbconvert_exporter": "python",
   "pygments_lexer": "ipython3",
   "version": "3.8.13"
  }
 },
 "nbformat": 4,
 "nbformat_minor": 2
}
